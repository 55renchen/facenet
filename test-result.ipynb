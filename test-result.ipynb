{
 "cells": [
  {
   "cell_type": "code",
   "execution_count": 1,
   "metadata": {
    "pycharm": {
     "is_executing": false
    }
   },
   "outputs": [],
   "source": [
    "import torch\n",
    "from torchvision import transforms\n",
    "import torchvision\n",
    "from PIL import Image\n",
    "from models import FaceNetModel\n",
    "import torch.nn.functional as F\n",
    "from torchvision.datasets import ImageFolder\n",
    "from torch.utils.data import DataLoader\n",
    "from random import sample, choice\n",
    "import json\n",
    "import numpy as np\n",
    "import torchvision\n",
    "import matplotlib.pyplot as plt\n",
    "import os\n",
    "import pandas as pd"
   ]
  },
  {
   "cell_type": "code",
   "execution_count": 2,
   "metadata": {
    "pycharm": {
     "is_executing": false
    }
   },
   "outputs": [],
   "source": [
    "device = torch.device('cuda' if torch.cuda.is_available() else 'cpu')"
   ]
  },
  {
   "cell_type": "code",
   "execution_count": 3,
   "metadata": {
    "pycharm": {
     "is_executing": false
    }
   },
   "outputs": [
    {
     "traceback": [
      "\u001b[0;31m---------------------------------------------------------------------------\u001b[0m",
      "\u001b[0;31mFileNotFoundError\u001b[0m                         Traceback (most recent call last)",
      "\u001b[0;32m<ipython-input-3-24b7b5bfb6f0>\u001b[0m in \u001b[0;36m<module>\u001b[0;34m\u001b[0m\n\u001b[1;32m      1\u001b[0m \u001b[0mroot\u001b[0m \u001b[0;34m=\u001b[0m \u001b[0;34m'/home/khairulimam/datasets/lfw-mtcnn-182/'\u001b[0m\u001b[0;34m\u001b[0m\u001b[0;34m\u001b[0m\u001b[0m\n\u001b[0;32m----> 2\u001b[0;31m \u001b[0mdf\u001b[0m \u001b[0;34m=\u001b[0m \u001b[0mpd\u001b[0m\u001b[0;34m.\u001b[0m\u001b[0mread_csv\u001b[0m\u001b[0;34m(\u001b[0m\u001b[0;34m'datasets/lfw-mtcnn-182.csv'\u001b[0m\u001b[0;34m)\u001b[0m\u001b[0;34m\u001b[0m\u001b[0;34m\u001b[0m\u001b[0m\n\u001b[0m\u001b[1;32m      3\u001b[0m \u001b[0mclasses\u001b[0m \u001b[0;34m=\u001b[0m \u001b[0mdf\u001b[0m\u001b[0;34m[\u001b[0m\u001b[0;34m'class'\u001b[0m\u001b[0;34m]\u001b[0m\u001b[0;34m.\u001b[0m\u001b[0munique\u001b[0m\u001b[0;34m(\u001b[0m\u001b[0;34m)\u001b[0m\u001b[0;34m\u001b[0m\u001b[0;34m\u001b[0m\u001b[0m\n\u001b[1;32m      4\u001b[0m \u001b[0mclass_row_counts\u001b[0m \u001b[0;34m=\u001b[0m \u001b[0mdf\u001b[0m\u001b[0;34m[\u001b[0m\u001b[0;34m'class'\u001b[0m\u001b[0;34m]\u001b[0m\u001b[0;34m.\u001b[0m\u001b[0mvalue_counts\u001b[0m\u001b[0;34m(\u001b[0m\u001b[0;34m)\u001b[0m\u001b[0;34m\u001b[0m\u001b[0;34m\u001b[0m\u001b[0m\n\u001b[1;32m      5\u001b[0m \u001b[0mimages_above1_index\u001b[0m \u001b[0;34m=\u001b[0m \u001b[0mclass_row_counts\u001b[0m\u001b[0;34m[\u001b[0m\u001b[0mclass_row_counts\u001b[0m \u001b[0;34m>\u001b[0m \u001b[0;36m2\u001b[0m\u001b[0;34m]\u001b[0m\u001b[0;34m.\u001b[0m\u001b[0mindex\u001b[0m\u001b[0;34m.\u001b[0m\u001b[0mtolist\u001b[0m\u001b[0;34m(\u001b[0m\u001b[0;34m)\u001b[0m\u001b[0;34m\u001b[0m\u001b[0;34m\u001b[0m\u001b[0m\n",
      "\u001b[0;32m~/anaconda3/lib/python3.7/site-packages/pandas/io/parsers.py\u001b[0m in \u001b[0;36mparser_f\u001b[0;34m(filepath_or_buffer, sep, delimiter, header, names, index_col, usecols, squeeze, prefix, mangle_dupe_cols, dtype, engine, converters, true_values, false_values, skipinitialspace, skiprows, nrows, na_values, keep_default_na, na_filter, verbose, skip_blank_lines, parse_dates, infer_datetime_format, keep_date_col, date_parser, dayfirst, iterator, chunksize, compression, thousands, decimal, lineterminator, quotechar, quoting, escapechar, comment, encoding, dialect, tupleize_cols, error_bad_lines, warn_bad_lines, skipfooter, doublequote, delim_whitespace, low_memory, memory_map, float_precision)\u001b[0m\n\u001b[1;32m    676\u001b[0m                     skip_blank_lines=skip_blank_lines)\n\u001b[1;32m    677\u001b[0m \u001b[0;34m\u001b[0m\u001b[0m\n\u001b[0;32m--> 678\u001b[0;31m         \u001b[0;32mreturn\u001b[0m \u001b[0m_read\u001b[0m\u001b[0;34m(\u001b[0m\u001b[0mfilepath_or_buffer\u001b[0m\u001b[0;34m,\u001b[0m \u001b[0mkwds\u001b[0m\u001b[0;34m)\u001b[0m\u001b[0;34m\u001b[0m\u001b[0;34m\u001b[0m\u001b[0m\n\u001b[0m\u001b[1;32m    679\u001b[0m \u001b[0;34m\u001b[0m\u001b[0m\n\u001b[1;32m    680\u001b[0m     \u001b[0mparser_f\u001b[0m\u001b[0;34m.\u001b[0m\u001b[0m__name__\u001b[0m \u001b[0;34m=\u001b[0m \u001b[0mname\u001b[0m\u001b[0;34m\u001b[0m\u001b[0;34m\u001b[0m\u001b[0m\n",
      "\u001b[0;32m~/anaconda3/lib/python3.7/site-packages/pandas/io/parsers.py\u001b[0m in \u001b[0;36m_read\u001b[0;34m(filepath_or_buffer, kwds)\u001b[0m\n\u001b[1;32m    438\u001b[0m \u001b[0;34m\u001b[0m\u001b[0m\n\u001b[1;32m    439\u001b[0m     \u001b[0;31m# Create the parser.\u001b[0m\u001b[0;34m\u001b[0m\u001b[0;34m\u001b[0m\u001b[0;34m\u001b[0m\u001b[0m\n\u001b[0;32m--> 440\u001b[0;31m     \u001b[0mparser\u001b[0m \u001b[0;34m=\u001b[0m \u001b[0mTextFileReader\u001b[0m\u001b[0;34m(\u001b[0m\u001b[0mfilepath_or_buffer\u001b[0m\u001b[0;34m,\u001b[0m \u001b[0;34m**\u001b[0m\u001b[0mkwds\u001b[0m\u001b[0;34m)\u001b[0m\u001b[0;34m\u001b[0m\u001b[0;34m\u001b[0m\u001b[0m\n\u001b[0m\u001b[1;32m    441\u001b[0m \u001b[0;34m\u001b[0m\u001b[0m\n\u001b[1;32m    442\u001b[0m     \u001b[0;32mif\u001b[0m \u001b[0mchunksize\u001b[0m \u001b[0;32mor\u001b[0m \u001b[0miterator\u001b[0m\u001b[0;34m:\u001b[0m\u001b[0;34m\u001b[0m\u001b[0;34m\u001b[0m\u001b[0m\n",
      "\u001b[0;32m~/anaconda3/lib/python3.7/site-packages/pandas/io/parsers.py\u001b[0m in \u001b[0;36m__init__\u001b[0;34m(self, f, engine, **kwds)\u001b[0m\n\u001b[1;32m    785\u001b[0m             \u001b[0mself\u001b[0m\u001b[0;34m.\u001b[0m\u001b[0moptions\u001b[0m\u001b[0;34m[\u001b[0m\u001b[0;34m'has_index_names'\u001b[0m\u001b[0;34m]\u001b[0m \u001b[0;34m=\u001b[0m \u001b[0mkwds\u001b[0m\u001b[0;34m[\u001b[0m\u001b[0;34m'has_index_names'\u001b[0m\u001b[0;34m]\u001b[0m\u001b[0;34m\u001b[0m\u001b[0;34m\u001b[0m\u001b[0m\n\u001b[1;32m    786\u001b[0m \u001b[0;34m\u001b[0m\u001b[0m\n\u001b[0;32m--> 787\u001b[0;31m         \u001b[0mself\u001b[0m\u001b[0;34m.\u001b[0m\u001b[0m_make_engine\u001b[0m\u001b[0;34m(\u001b[0m\u001b[0mself\u001b[0m\u001b[0;34m.\u001b[0m\u001b[0mengine\u001b[0m\u001b[0;34m)\u001b[0m\u001b[0;34m\u001b[0m\u001b[0;34m\u001b[0m\u001b[0m\n\u001b[0m\u001b[1;32m    788\u001b[0m \u001b[0;34m\u001b[0m\u001b[0m\n\u001b[1;32m    789\u001b[0m     \u001b[0;32mdef\u001b[0m \u001b[0mclose\u001b[0m\u001b[0;34m(\u001b[0m\u001b[0mself\u001b[0m\u001b[0;34m)\u001b[0m\u001b[0;34m:\u001b[0m\u001b[0;34m\u001b[0m\u001b[0;34m\u001b[0m\u001b[0m\n",
      "\u001b[0;32m~/anaconda3/lib/python3.7/site-packages/pandas/io/parsers.py\u001b[0m in \u001b[0;36m_make_engine\u001b[0;34m(self, engine)\u001b[0m\n\u001b[1;32m   1012\u001b[0m     \u001b[0;32mdef\u001b[0m \u001b[0m_make_engine\u001b[0m\u001b[0;34m(\u001b[0m\u001b[0mself\u001b[0m\u001b[0;34m,\u001b[0m \u001b[0mengine\u001b[0m\u001b[0;34m=\u001b[0m\u001b[0;34m'c'\u001b[0m\u001b[0;34m)\u001b[0m\u001b[0;34m:\u001b[0m\u001b[0;34m\u001b[0m\u001b[0;34m\u001b[0m\u001b[0m\n\u001b[1;32m   1013\u001b[0m         \u001b[0;32mif\u001b[0m \u001b[0mengine\u001b[0m \u001b[0;34m==\u001b[0m \u001b[0;34m'c'\u001b[0m\u001b[0;34m:\u001b[0m\u001b[0;34m\u001b[0m\u001b[0;34m\u001b[0m\u001b[0m\n\u001b[0;32m-> 1014\u001b[0;31m             \u001b[0mself\u001b[0m\u001b[0;34m.\u001b[0m\u001b[0m_engine\u001b[0m \u001b[0;34m=\u001b[0m \u001b[0mCParserWrapper\u001b[0m\u001b[0;34m(\u001b[0m\u001b[0mself\u001b[0m\u001b[0;34m.\u001b[0m\u001b[0mf\u001b[0m\u001b[0;34m,\u001b[0m \u001b[0;34m**\u001b[0m\u001b[0mself\u001b[0m\u001b[0;34m.\u001b[0m\u001b[0moptions\u001b[0m\u001b[0;34m)\u001b[0m\u001b[0;34m\u001b[0m\u001b[0;34m\u001b[0m\u001b[0m\n\u001b[0m\u001b[1;32m   1015\u001b[0m         \u001b[0;32melse\u001b[0m\u001b[0;34m:\u001b[0m\u001b[0;34m\u001b[0m\u001b[0;34m\u001b[0m\u001b[0m\n\u001b[1;32m   1016\u001b[0m             \u001b[0;32mif\u001b[0m \u001b[0mengine\u001b[0m \u001b[0;34m==\u001b[0m \u001b[0;34m'python'\u001b[0m\u001b[0;34m:\u001b[0m\u001b[0;34m\u001b[0m\u001b[0;34m\u001b[0m\u001b[0m\n",
      "\u001b[0;32m~/anaconda3/lib/python3.7/site-packages/pandas/io/parsers.py\u001b[0m in \u001b[0;36m__init__\u001b[0;34m(self, src, **kwds)\u001b[0m\n\u001b[1;32m   1706\u001b[0m         \u001b[0mkwds\u001b[0m\u001b[0;34m[\u001b[0m\u001b[0;34m'usecols'\u001b[0m\u001b[0;34m]\u001b[0m \u001b[0;34m=\u001b[0m \u001b[0mself\u001b[0m\u001b[0;34m.\u001b[0m\u001b[0musecols\u001b[0m\u001b[0;34m\u001b[0m\u001b[0;34m\u001b[0m\u001b[0m\n\u001b[1;32m   1707\u001b[0m \u001b[0;34m\u001b[0m\u001b[0m\n\u001b[0;32m-> 1708\u001b[0;31m         \u001b[0mself\u001b[0m\u001b[0;34m.\u001b[0m\u001b[0m_reader\u001b[0m \u001b[0;34m=\u001b[0m \u001b[0mparsers\u001b[0m\u001b[0;34m.\u001b[0m\u001b[0mTextReader\u001b[0m\u001b[0;34m(\u001b[0m\u001b[0msrc\u001b[0m\u001b[0;34m,\u001b[0m \u001b[0;34m**\u001b[0m\u001b[0mkwds\u001b[0m\u001b[0;34m)\u001b[0m\u001b[0;34m\u001b[0m\u001b[0;34m\u001b[0m\u001b[0m\n\u001b[0m\u001b[1;32m   1709\u001b[0m \u001b[0;34m\u001b[0m\u001b[0m\n\u001b[1;32m   1710\u001b[0m         \u001b[0mpassed_names\u001b[0m \u001b[0;34m=\u001b[0m \u001b[0mself\u001b[0m\u001b[0;34m.\u001b[0m\u001b[0mnames\u001b[0m \u001b[0;32mis\u001b[0m \u001b[0;32mNone\u001b[0m\u001b[0;34m\u001b[0m\u001b[0;34m\u001b[0m\u001b[0m\n",
      "\u001b[0;32mpandas/_libs/parsers.pyx\u001b[0m in \u001b[0;36mpandas._libs.parsers.TextReader.__cinit__\u001b[0;34m()\u001b[0m\n",
      "\u001b[0;32mpandas/_libs/parsers.pyx\u001b[0m in \u001b[0;36mpandas._libs.parsers.TextReader._setup_parser_source\u001b[0;34m()\u001b[0m\n",
      "\u001b[0;31mFileNotFoundError\u001b[0m: File b'datasets/lfw-mtcnn-182.csv' does not exist"
     ],
     "ename": "FileNotFoundError",
     "evalue": "File b'datasets/lfw-mtcnn-182.csv' does not exist",
     "output_type": "error"
    }
   ],
   "source": [
    "root = '/home/khairulimam/datasets/lfw-mtcnn-182/'\n",
    "df = pd.read_csv('datasets/lfw-mtcnn-182.csv')\n",
    "classes = df['class'].unique()\n",
    "class_row_counts = df['class'].value_counts()\n",
    "images_above1_index = class_row_counts[class_row_counts > 2].index.tolist()\n",
    "images_above1 = df[df['class'].isin(images_above1_index)]"
   ]
  },
  {
   "cell_type": "code",
   "execution_count": 85,
   "metadata": {},
   "outputs": [
    {
     "data": {
      "text/plain": [
       "(0.9207000000000001, 304)"
      ]
     },
     "execution_count": 85,
     "metadata": {},
     "output_type": "execute_result"
    }
   ],
   "source": [
    "state = torch.load('log/last_920.pth')\n",
    "state['accuracy'], state['epoch']"
   ]
  },
  {
   "cell_type": "code",
   "execution_count": 88,
   "metadata": {},
   "outputs": [],
   "source": [
    "model = FaceNetModel(128, 500, True)\n",
    "model.load_state_dict(state['state_dict'])\n",
    "model.to(device)\n",
    "model = torch.nn.DataParallel(model)"
   ]
  },
  {
   "cell_type": "code",
   "execution_count": 22,
   "metadata": {},
   "outputs": [],
   "source": [
    "trfrm = transforms.Compose([\n",
    "            transforms.Resize(224),\n",
    "            transforms.CenterCrop(224),\n",
    "            transforms.ToTensor(),\n",
    "            transforms.Normalize(mean=[0.485, 0.456, 0.406],\n",
    "                                 std=[0.229, 0.224, 0.225])])\n",
    "topil = transforms.ToPILImage()\n",
    "totensor = transforms.Compose(trfrm.transforms[:-1])"
   ]
  },
  {
   "cell_type": "code",
   "execution_count": 231,
   "metadata": {},
   "outputs": [],
   "source": [
    "def get_same_notsame(size):\n",
    "    notsame = []\n",
    "    same = []\n",
    "    while len(same) < size:\n",
    "        class_ = images_above1.sample().iloc[0]['class']\n",
    "        same_pairs = images_above1[images_above1['class'] == class_].sample(2)\n",
    "        same.append((same_pairs.iloc[0], same_pairs.iloc[1]))\n",
    "    while len(notsame) < size:\n",
    "        pair1 = images_above1.sample()\n",
    "        pair2 = images_above1[images_above1['class'] != pair1.iloc[0]['class']].sample()\n",
    "        notsame.append((pair1.iloc[0], pair2.iloc[0]))\n",
    "    return {'same': same, 'notsame': notsame}\n",
    "    \n",
    "def imshow(img,text=None,should_save=False):\n",
    "    npimg = torchvision.utils.make_grid(img).numpy()\n",
    "    plt.axis(\"off\")\n",
    "    if text:\n",
    "        plt.text(220, 263, text, fontweight='bold', horizontalalignment='center',\n",
    "            bbox={'facecolor':'white'})\n",
    "    plt.imshow(np.transpose(npimg, (1, 2, 0)))\n",
    "    plt.show()\n",
    "\n",
    "def get_distance(timg1, timg2):\n",
    "    model.eval()\n",
    "    with torch.no_grad():\n",
    "        embed1 = model(timg1.unsqueeze(0))\n",
    "        embed2 = model(timg2.unsqueeze(0))\n",
    "    return F.pairwise_distance(embed1, embed2).item()\n",
    "\n",
    "def get_path(root, item):\n",
    "    return os.path.join(root, item['name'], item['id'] + \".\"+item['ext'])"
   ]
  },
  {
   "cell_type": "code",
   "execution_count": 245,
   "metadata": {},
   "outputs": [],
   "source": [
    "data = get_same_notsame(100)"
   ]
  },
  {
   "cell_type": "code",
   "execution_count": 238,
   "metadata": {},
   "outputs": [],
   "source": [
    "threshold = .5"
   ]
  },
  {
   "cell_type": "markdown",
   "metadata": {},
   "source": [
    "### Test same"
   ]
  },
  {
   "cell_type": "code",
   "execution_count": 4,
   "metadata": {
    "pycharm": {
     "is_executing": false
    }
   },
   "outputs": [
    {
     "traceback": [
      "\u001b[0;31m---------------------------------------------------------------------------\u001b[0m",
      "\u001b[0;31mNameError\u001b[0m                                 Traceback (most recent call last)",
      "\u001b[0;32m<ipython-input-4-ad0bd65b90eb>\u001b[0m in \u001b[0;36m<module>\u001b[0;34m\u001b[0m\n\u001b[0;32m----> 1\u001b[0;31m \u001b[0;32mfor\u001b[0m \u001b[0mitem\u001b[0m \u001b[0;32min\u001b[0m \u001b[0mdata\u001b[0m\u001b[0;34m[\u001b[0m\u001b[0;34m'same'\u001b[0m\u001b[0;34m]\u001b[0m\u001b[0;34m:\u001b[0m\u001b[0;34m\u001b[0m\u001b[0;34m\u001b[0m\u001b[0m\n\u001b[0m\u001b[1;32m      2\u001b[0m     \u001b[0ma\u001b[0m\u001b[0;34m,\u001b[0m\u001b[0mb\u001b[0m \u001b[0;34m=\u001b[0m \u001b[0mmap\u001b[0m\u001b[0;34m(\u001b[0m\u001b[0;32mlambda\u001b[0m \u001b[0mi\u001b[0m\u001b[0;34m:\u001b[0m \u001b[0mtrfrm\u001b[0m\u001b[0;34m(\u001b[0m\u001b[0mImage\u001b[0m\u001b[0;34m.\u001b[0m\u001b[0mopen\u001b[0m\u001b[0;34m(\u001b[0m\u001b[0mget_path\u001b[0m\u001b[0;34m(\u001b[0m\u001b[0mroot\u001b[0m\u001b[0;34m,\u001b[0m \u001b[0mi\u001b[0m\u001b[0;34m)\u001b[0m\u001b[0;34m)\u001b[0m\u001b[0;34m)\u001b[0m\u001b[0;34m.\u001b[0m\u001b[0munsqueeze\u001b[0m\u001b[0;34m(\u001b[0m\u001b[0;36m0\u001b[0m\u001b[0;34m)\u001b[0m\u001b[0;34m.\u001b[0m\u001b[0mto\u001b[0m\u001b[0;34m(\u001b[0m\u001b[0mdevice\u001b[0m\u001b[0;34m)\u001b[0m\u001b[0;34m,\u001b[0m \u001b[0mitem\u001b[0m\u001b[0;34m)\u001b[0m\u001b[0;34m\u001b[0m\u001b[0;34m\u001b[0m\u001b[0m\n\u001b[1;32m      3\u001b[0m     \u001b[0mx0\u001b[0m\u001b[0;34m,\u001b[0m \u001b[0mx1\u001b[0m \u001b[0;34m=\u001b[0m \u001b[0mmap\u001b[0m\u001b[0;34m(\u001b[0m\u001b[0;32mlambda\u001b[0m \u001b[0mi\u001b[0m\u001b[0;34m:\u001b[0m \u001b[0mtotensor\u001b[0m\u001b[0;34m(\u001b[0m\u001b[0mImage\u001b[0m\u001b[0;34m.\u001b[0m\u001b[0mopen\u001b[0m\u001b[0;34m(\u001b[0m\u001b[0mget_path\u001b[0m\u001b[0;34m(\u001b[0m\u001b[0mroot\u001b[0m\u001b[0;34m,\u001b[0m \u001b[0mi\u001b[0m\u001b[0;34m)\u001b[0m\u001b[0;34m)\u001b[0m\u001b[0;34m)\u001b[0m\u001b[0;34m.\u001b[0m\u001b[0munsqueeze\u001b[0m\u001b[0;34m(\u001b[0m\u001b[0;36m0\u001b[0m\u001b[0;34m)\u001b[0m\u001b[0;34m,\u001b[0m \u001b[0mitem\u001b[0m\u001b[0;34m)\u001b[0m\u001b[0;34m\u001b[0m\u001b[0;34m\u001b[0m\u001b[0m\n\u001b[1;32m      4\u001b[0m     \u001b[0membed1\u001b[0m\u001b[0;34m,\u001b[0m \u001b[0membed2\u001b[0m \u001b[0;34m=\u001b[0m \u001b[0mmodel\u001b[0m\u001b[0;34m(\u001b[0m\u001b[0ma\u001b[0m\u001b[0;34m)\u001b[0m\u001b[0;34m,\u001b[0m \u001b[0mmodel\u001b[0m\u001b[0;34m(\u001b[0m\u001b[0mb\u001b[0m\u001b[0;34m)\u001b[0m\u001b[0;34m\u001b[0m\u001b[0;34m\u001b[0m\u001b[0m\n\u001b[1;32m      5\u001b[0m     \u001b[0mconcatenated\u001b[0m \u001b[0;34m=\u001b[0m \u001b[0mtorch\u001b[0m\u001b[0;34m.\u001b[0m\u001b[0mcat\u001b[0m\u001b[0;34m(\u001b[0m\u001b[0;34m(\u001b[0m\u001b[0mx0\u001b[0m\u001b[0;34m,\u001b[0m\u001b[0mx1\u001b[0m\u001b[0;34m)\u001b[0m\u001b[0;34m,\u001b[0m\u001b[0;36m0\u001b[0m\u001b[0;34m)\u001b[0m\u001b[0;34m\u001b[0m\u001b[0;34m\u001b[0m\u001b[0m\n",
      "\u001b[0;31mNameError\u001b[0m: name 'data' is not defined"
     ],
     "ename": "NameError",
     "evalue": "name 'data' is not defined",
     "output_type": "error"
    }
   ],
   "source": [
    "for item in data['same']:\n",
    "    a,b = map(lambda i: trfrm(Image.open(get_path(root, i))).unsqueeze(0).to(device), item)\n",
    "    x0, x1 = map(lambda i: totensor(Image.open(get_path(root, i))).unsqueeze(0), item)\n",
    "    embed1, embed2 = model(a), model(b)\n",
    "    concatenated = torch.cat((x0,x1),0)\n",
    "    euclidean_distance = F.pairwise_distance(embed1, embed2)\n",
    "    name1, name2 = item[0]['name'], item[1]['name']\n",
    "    not_same = euclidean_distance > threshold\n",
    "    sim = (\"Mirip\", \"Tidak Mirip\")[not_same]\n",
    "    greater = (\"≤\", \">\")[not_same]\n",
    "    text = f\"{name1} & {name2}\\nJarak: {euclidean_distance.item():.2f}\\nThreshold: {threshold}\\nJarak {greater} threshold = {sim}\"\n",
    "    # imshow(concatenated, text)"
   ]
  },
  {
   "cell_type": "code",
   "execution_count": null,
   "metadata": {},
   "outputs": [],
   "source": [
    "results = []\n",
    "for path in data['same']:\n",
    "    path1 = path[0]\n",
    "    path2 = path[1]\n",
    "    img0 = Image.open(path1)\n",
    "    img1 = Image.open(path2)\n",
    "    x0 = trfrm(img0)\n",
    "    x1 = trfrm(img1)\n",
    "    distance = get_distance(x0, x1)\n",
    "    results.append((path2.split('/')[-1], path1.split('/')[-1], distance))\n",
    "    print(path1.split('/')[-1], '\\t', path2.split('/')[-1], '\\t', distance)\n",
    "sortedresults = sorted(results, key=lambda k: k[-1], reverse=True)\n",
    "print()\n",
    "print('top 5 largest same')\n",
    "for it in sortedresults[:5]:\n",
    "    print(it)"
   ]
  },
  {
   "cell_type": "code",
   "execution_count": 29,
   "metadata": {},
   "outputs": [
    {
     "name": "stdout",
     "output_type": "stream",
     "text": [
      "Naji_Sabri_0005.jpg \t Leuris_Pupo_0001.jpg \t 2.829508066177368\n",
      "Linda_Baboolal_0001.jpg \t Danny_Green_0001.jpg \t 3.1970763206481934\n",
      "Debra_Shank_0001.jpg \t Leuris_Pupo_0001.jpg \t 3.60748553276062\n",
      "Carlos_De_Abreu_0001.jpg \t Morgan_Hentzen_0001.jpg \t 3.2909352779388428\n",
      "Mira_Sorvino_0001.jpg \t Joan_Dangerfield_0001.jpg \t 1.783943772315979\n",
      "Robert_Vowler_0001.jpg \t Faisal_Iqbal_0001.jpg \t 2.209958791732788\n",
      "Patricia_Russo_0001.jpg \t Meghann_Shaughnessy_0002.jpg \t 2.8840348720550537\n",
      "Dick_Devine_0001.jpg \t Stella_Tennant_0001.jpg \t 3.415562152862549\n",
      "Lucrecia_Orozco_0001.jpg \t Dustin_Brown_0001.jpg \t 2.355517625808716\n",
      "Andy_Bryant_0001.jpg \t Kristen_Breitweiser_0003.jpg \t 3.494917154312134\n",
      "Ramon_Ponce_de_Leon_0001.jpg \t Lynn_Abraham_0001.jpg \t 3.5241920948028564\n",
      "Hermando_Harton_0001.jpg \t Boris_Henry_0001.jpg \t 3.4171695709228516\n",
      "Thomas_Ulrich_0001.jpg \t Pat_Cox_0002.jpg \t 2.6086974143981934\n",
      "King_Abdullah_II_0001.jpg \t Mark_Podlesny_0001.jpg \t 3.0868496894836426\n",
      "David_Millar_0001.jpg \t Ziwang_Xu_0001.jpg \t 3.4436278343200684\n",
      "Miyako_Miyazaki_0002.jpg \t Uzi_Even_0001.jpg \t 4.809819221496582\n",
      "Simona_Hradil_0001.jpg \t Adrianna_Zuzic_0001.jpg \t 2.8457822799682617\n",
      "Angie_Martinez_0001.jpg \t Kristin_Chenoweth_0001.jpg \t 1.485435962677002\n",
      "Andy_Wisecarver_0001.jpg \t Fred_Wilpon_0001.jpg \t 2.8347511291503906\n",
      "Momir_Nikolic_0001.jpg \t Krishna_Bhadur_Mahara_0001.jpg \t 2.4250736236572266\n",
      "Gerard_de_Cortanze_0001.jpg \t Tristan_Gretzky_0001.jpg \t 3.7706503868103027\n",
      "Riccardo_Muti_0001.jpg \t Darryl_McDaniels_0001.jpg \t 3.8024470806121826\n",
      "Tony_Clement_0001.jpg \t Takeo_Hiranuma_0001.jpg \t 2.072444438934326\n",
      "Rod_Thorn_0001.jpg \t Gerard_Butler_0001.jpg \t 2.461185932159424\n",
      "Angelo_Reyes_0001.jpg \t William_Webster_0001.jpg \t 1.4027297496795654\n",
      "Richard_Norton-Taylor_0002.jpg \t Sahim_Alwan_0001.jpg \t 3.8577022552490234\n",
      "Ricky_Barnes_0001.jpg \t Kim_Weeks_0001.jpg \t 3.844282627105713\n",
      "Dennis_Miller_0001.jpg \t George_Maxwell_Richards_0001.jpg \t 3.6816823482513428\n",
      "Art_Hoffmann_0002.jpg \t Lyle_Lovett_0001.jpg \t 2.743494749069214\n",
      "Julie_Andrews_0001.jpg \t Hideki_Matsui_0002.jpg \t 4.068113327026367\n",
      "Edward_Johnson_0001.jpg \t Jodie_Foster_0002.jpg \t 4.058089733123779\n",
      "Michael_Douglas_0003.jpg \t Alejandro_Fernandez_0001.jpg \t 3.896498203277588\n",
      "Lance_Armstrong_0005.jpg \t Richard_Fine_0001.jpg \t 3.6312270164489746\n",
      "Alisha_Richman_0001.jpg \t Inocencio_Arias_0001.jpg \t 3.519122362136841\n",
      "Esteban_Cordoba-Velazquez_0001.jpg \t Jen_Bice_0001.jpg \t 4.0043230056762695\n",
      "Isaiah_Washington_0002.jpg \t Alyse_Beaupre_0001.jpg \t 3.747028350830078\n",
      "Bill_Kollar_0001.jpg \t Michel_Charles_Chretien_0001.jpg \t 2.144979238510132\n",
      "Diane_Ladd_0001.jpg \t Franck_Cerutti_0001.jpg \t 3.441408157348633\n",
      "Colleen_Donovan_0001.jpg \t Gonzalo_Sanchez_de_Lozada_0009.jpg \t 3.971949815750122\n",
      "Rupert_Grint_0002.jpg \t Raquel_Welch_0002.jpg \t 2.379769802093506\n",
      "Tracee_Ellis_Ross_0001.jpg \t David_Bell_0001.jpg \t 4.213454723358154\n",
      "Mariangel_Ruiz_Torrealba_0001.jpg \t Eva_Amurri_0001.jpg \t 1.050395131111145\n",
      "Anne_McLellan_0003.jpg \t Bob_Iger_0001.jpg \t 3.5194690227508545\n",
      "Gerard_Kleisterlee_0001.jpg \t Matt_Braker_0001.jpg \t 2.171535015106201\n",
      "Peter_Rasch_0001.jpg \t Enrica_Fico_0001.jpg \t 2.921475887298584\n",
      "Charlton_Heston_0004.jpg \t Heidi_Fleiss_0003.jpg \t 4.074244976043701\n",
      "Nick_Nolte_0002.jpg \t Lisa_Raymond_0002.jpg \t 3.4581141471862793\n",
      "Naomi_Bronstein_0001.jpg \t Mitzi_Gaynor_0001.jpg \t 3.4534149169921875\n",
      "Svetlana_Koroleva_0001.jpg \t Mary_Sue_Coleman_0001.jpg \t 2.1527469158172607\n",
      "Yolanda_King_0001.jpg \t Richard_Rodriguez_0001.jpg \t 4.010756969451904\n",
      "\n",
      "top 5 lowest notsame\n",
      "('Eva_Amurri_0001.jpg', 'Mariangel_Ruiz_Torrealba_0001.jpg', 1.050395131111145)\n",
      "('William_Webster_0001.jpg', 'Angelo_Reyes_0001.jpg', 1.4027297496795654)\n",
      "('Kristin_Chenoweth_0001.jpg', 'Angie_Martinez_0001.jpg', 1.485435962677002)\n",
      "('Joan_Dangerfield_0001.jpg', 'Mira_Sorvino_0001.jpg', 1.783943772315979)\n",
      "('Takeo_Hiranuma_0001.jpg', 'Tony_Clement_0001.jpg', 2.072444438934326)\n"
     ]
    }
   ],
   "source": [
    "results = []\n",
    "for path in data['notsame']:\n",
    "    path1 = path[0]\n",
    "    path2 = path[1]\n",
    "    img0 = Image.open(path1)\n",
    "    img1 = Image.open(path2)\n",
    "    x0 = trfrm(img0)\n",
    "    x1 = trfrm(img1)\n",
    "    concatenated = torch.cat((totensor(img0),totensor(img1)),0)\n",
    "    concatenated.shape\n",
    "    distance = get_distance(x0, x1)\n",
    "    results.append((path2.split('/')[-1], path1.split('/')[-1], distance))\n",
    "    print(path1.split('/')[-1], '\\t', path2.split('/')[-1], '\\t', distance)\n",
    "sortedresults = sorted(results, key=lambda k: k[-1])\n",
    "print()\n",
    "print('top 5 lowest notsame')\n",
    "for it in sortedresults[:5]:\n",
    "    print(it)"
   ]
  },
  {
   "cell_type": "code",
   "execution_count": 10,
   "metadata": {},
   "outputs": [],
   "source": []
  },
  {
   "cell_type": "code",
   "execution_count": 16,
   "metadata": {},
   "outputs": [],
   "source": []
  },
  {
   "cell_type": "code",
   "execution_count": 36,
   "metadata": {},
   "outputs": [
    {
     "data": {
      "text/plain": [
       "id       Jennifer_Capriati_0006\n",
       "name          Jennifer_Capriati\n",
       "ext                         jpg\n",
       "class                      2507\n",
       "Name: 6137, dtype: object"
      ]
     },
     "execution_count": 36,
     "metadata": {},
     "output_type": "execute_result"
    }
   ],
   "source": [
    "images_above1[images_above1['class'] != 4207].sample().iloc[0]"
   ]
  }
 ],
 "metadata": {
  "kernelspec": {
   "display_name": "Python 3",
   "language": "python",
   "name": "python3"
  },
  "language_info": {
   "codemirror_mode": {
    "name": "ipython",
    "version": 3
   },
   "file_extension": ".py",
   "mimetype": "text/x-python",
   "name": "python",
   "nbconvert_exporter": "python",
   "pygments_lexer": "ipython3",
   "version": "3.7.1"
  },
  "pycharm": {
   "stem_cell": {
    "cell_type": "raw",
    "source": [],
    "metadata": {
     "collapsed": false
    }
   }
  }
 },
 "nbformat": 4,
 "nbformat_minor": 2
}