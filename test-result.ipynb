{
 "cells": [
  {
   "cell_type": "code",
   "execution_count": 1,
   "metadata": {},
   "outputs": [],
   "source": [
    "%matplotlib inline\n",
    "import torch\n",
    "from torchvision import transforms\n",
    "from PIL import Image\n",
    "from models import FaceNetModel\n",
    "import torch.nn.functional as F\n",
    "from torchvision.datasets import ImageFolder\n",
    "from torch.utils.data import DataLoader\n",
    "from random import sample, choice\n",
    "import json\n",
    "import numpy as np\n",
    "import torchvision\n",
    "import matplotlib.pyplot as plt\n",
    "import os"
   ]
  },
  {
   "cell_type": "code",
   "execution_count": 3,
   "metadata": {},
   "outputs": [],
   "source": [
    "os.environ['MP_DUPLICATE_LIB_OK'] = 'TRUE'"
   ]
  },
  {
   "cell_type": "code",
   "execution_count": 4,
   "metadata": {},
   "outputs": [
    {
     "data": {
      "text/plain": [
       "[<matplotlib.lines.Line2D at 0x120e02fd0>]"
      ]
     },
     "execution_count": 4,
     "metadata": {},
     "output_type": "execute_result"
    },
    {
     "data": {
      "image/png": "[encoded data removed]",
      "text/plain": [
       "<Figure size 432x288 with 1 Axes>"
      ]
     },
     "metadata": {
      "needs_background": "light"
     },
     "output_type": "display_data"
    }
   ],
   "source": [
    "plt.plot([87,889,909])"
   ]
  },
  {
   "cell_type": "code",
   "execution_count": 3,
   "metadata": {},
   "outputs": [],
   "source": [
    "with open('lfw-grouped.json') as json_file:  \n",
    "    grouped = json.load(json_file)"
   ]
  },
  {
   "cell_type": "code",
   "execution_count": 4,
   "metadata": {},
   "outputs": [],
   "source": [
    "classes = list(grouped.keys())"
   ]
  },
  {
   "cell_type": "code",
   "execution_count": 5,
   "metadata": {},
   "outputs": [
    {
     "data": {
      "text/plain": [
       "(0.9189, 145)"
      ]
     },
     "execution_count": 5,
     "metadata": {},
     "output_type": "execute_result"
    }
   ],
   "source": [
    "state = torch.load('log/best_state.pth', map_location='cpu')\n",
    "state['accuracy'], state['epoch']"
   ]
  },
  {
   "cell_type": "code",
   "execution_count": 6,
   "metadata": {},
   "outputs": [],
   "source": [
    "trfrm =transforms.Compose([\n",
    "            transforms.Resize(224),\n",
    "            transforms.CenterCrop(224),\n",
    "            transforms.ToTensor(),\n",
    "            transforms.Normalize(mean=[0.485, 0.456, 0.406],\n",
    "                                 std=[0.229, 0.224, 0.225])])\n",
    "topil = transforms.ToPILImage()\n",
    "totensor = transforms.ToTensor()"
   ]
  },
  {
   "cell_type": "code",
   "execution_count": 7,
   "metadata": {},
   "outputs": [],
   "source": [
    "def get_same_notsame(size, grouped, classes):\n",
    "    notsame = []\n",
    "    same = []\n",
    "    while len(same) < size:\n",
    "        class_ = choice(classes)\n",
    "        if len(grouped[class_]) < 2:\n",
    "            continue\n",
    "        same.append(tuple(sample(grouped[class_], 2)))\n",
    "    while len(notsame) < size:\n",
    "        class1 = choice(classes)\n",
    "        class2 = choice(classes)\n",
    "        if class1 == class2:\n",
    "            continue\n",
    "        notsame.append(tuple([choice(grouped[class1]), choice(grouped[class2])]))\n",
    "    return {'same': same, 'notsame': notsame}\n",
    "    \n",
    "def imshow(img,text=None,should_save=False):\n",
    "    plt.axis(\"off\")\n",
    "    if text:\n",
    "        plt.text(75, 8, text, style='italic',fontweight='bold',\n",
    "            bbox={'facecolor':'white', 'alpha':0.8, 'pad':10})\n",
    "    plt.imshow(img.permute(1,2,0))\n",
    "\n",
    "def get_distance(timg1, timg2):\n",
    "    model.eval()\n",
    "    with torch.no_grad():\n",
    "        embed1 = model(timg1.unsqueeze(0))\n",
    "        embed2 = model(timg2.unsqueeze(0))\n",
    "    return F.pairwise_distance(embed1, embed2).item()"
   ]
  },
  {
   "cell_type": "code",
   "execution_count": 8,
   "metadata": {},
   "outputs": [],
   "source": [
    "data = get_same_notsame(50, grouped, classes)"
   ]
  },
  {
   "cell_type": "code",
   "execution_count": null,
   "metadata": {},
   "outputs": [],
   "source": [
    "model = FaceNetModel(128, 500, True)\n",
    "model.load_state_dict(state['state_dict'])"
   ]
  },
  {
   "cell_type": "code",
   "execution_count": 1,
   "metadata": {},
   "outputs": [
    {
     "ename": "NameError",
     "evalue": "name 'choice' is not defined",
     "output_type": "error",
     "traceback": [
      "\u001b[0;31m---------------------------------------------------------------------------\u001b[0m",
      "\u001b[0;31mNameError\u001b[0m                                 Traceback (most recent call last)",
      "\u001b[0;32m<ipython-input-1-61ab46892c93>\u001b[0m in \u001b[0;36m<module>\u001b[0;34m\u001b[0m\n\u001b[0;32m----> 1\u001b[0;31m \u001b[0mpath\u001b[0m \u001b[0;34m=\u001b[0m \u001b[0mchoice\u001b[0m\u001b[0;34m(\u001b[0m\u001b[0mdata\u001b[0m\u001b[0;34m[\u001b[0m\u001b[0;34m'same'\u001b[0m\u001b[0;34m]\u001b[0m\u001b[0;34m)\u001b[0m\u001b[0;34m\u001b[0m\u001b[0;34m\u001b[0m\u001b[0m\n\u001b[0m\u001b[1;32m      2\u001b[0m \u001b[0mpath1\u001b[0m \u001b[0;34m=\u001b[0m \u001b[0mpath\u001b[0m\u001b[0;34m[\u001b[0m\u001b[0;36m0\u001b[0m\u001b[0;34m]\u001b[0m\u001b[0;34m\u001b[0m\u001b[0;34m\u001b[0m\u001b[0m\n\u001b[1;32m      3\u001b[0m \u001b[0mpath2\u001b[0m \u001b[0;34m=\u001b[0m \u001b[0mpath\u001b[0m\u001b[0;34m[\u001b[0m\u001b[0;36m1\u001b[0m\u001b[0;34m]\u001b[0m\u001b[0;34m\u001b[0m\u001b[0;34m\u001b[0m\u001b[0m\n\u001b[1;32m      4\u001b[0m \u001b[0mimg0\u001b[0m \u001b[0;34m=\u001b[0m \u001b[0mImage\u001b[0m\u001b[0;34m.\u001b[0m\u001b[0mopen\u001b[0m\u001b[0;34m(\u001b[0m\u001b[0mpath1\u001b[0m\u001b[0;34m)\u001b[0m\u001b[0;34m\u001b[0m\u001b[0;34m\u001b[0m\u001b[0m\n\u001b[1;32m      5\u001b[0m \u001b[0mimg1\u001b[0m \u001b[0;34m=\u001b[0m \u001b[0mImage\u001b[0m\u001b[0;34m.\u001b[0m\u001b[0mopen\u001b[0m\u001b[0;34m(\u001b[0m\u001b[0mpath2\u001b[0m\u001b[0;34m)\u001b[0m\u001b[0;34m\u001b[0m\u001b[0;34m\u001b[0m\u001b[0m\n",
      "\u001b[0;31mNameError\u001b[0m: name 'choice' is not defined"
     ]
    }
   ],
   "source": [
    "path = choice(data['same'])\n",
    "path1 = path[0]\n",
    "path2 = path[1]\n",
    "img0 = Image.open(path1)\n",
    "img1 = Image.open(path2)\n",
    "img0\n",
    "# x0 = totensor(img0)\n",
    "# x1 = totensor(img1)\n",
    "# concatenated = torch.cat((x0,x1),0)\n",
    "# imshow(torchvision.utils.make_grid(concatenated),'Dissimilarity: {:.2f}'.format(5))"
   ]
  },
  {
   "cell_type": "code",
   "execution_count": null,
   "metadata": {},
   "outputs": [],
   "source": [
    "img1"
   ]
  },
  {
   "cell_type": "code",
   "execution_count": null,
   "metadata": {},
   "outputs": [],
   "source": [
    "results = []\n",
    "for path in data['same']:\n",
    "    path1 = path[0]\n",
    "    path2 = path[1]\n",
    "    img0 = Image.open(path1)\n",
    "    img1 = Image.open(path2)\n",
    "    x0 = trfrm(img0)\n",
    "    x1 = trfrm(img1)\n",
    "    distance = get_distance(x0, x1)\n",
    "    results.append((path2.split('/')[-1], path1.split('/')[-1], distance))\n",
    "    print(path1.split('/')[-1], '\\t', path2.split('/')[-1], '\\t', distance)\n",
    "sortedresults = sorted(results, key=lambda k: k[-1], reverse=True)\n",
    "print()\n",
    "print('top 5 largest same')\n",
    "for it in sortedresults[:5]:\n",
    "    print(it)"
   ]
  },
  {
   "cell_type": "code",
   "execution_count": 29,
   "metadata": {},
   "outputs": [
    {
     "name": "stdout",
     "output_type": "stream",
     "text": [
      "Naji_Sabri_0005.jpg \t Leuris_Pupo_0001.jpg \t 2.829508066177368\n",
      "Linda_Baboolal_0001.jpg \t Danny_Green_0001.jpg \t 3.1970763206481934\n",
      "Debra_Shank_0001.jpg \t Leuris_Pupo_0001.jpg \t 3.60748553276062\n",
      "Carlos_De_Abreu_0001.jpg \t Morgan_Hentzen_0001.jpg \t 3.2909352779388428\n",
      "Mira_Sorvino_0001.jpg \t Joan_Dangerfield_0001.jpg \t 1.783943772315979\n",
      "Robert_Vowler_0001.jpg \t Faisal_Iqbal_0001.jpg \t 2.209958791732788\n",
      "Patricia_Russo_0001.jpg \t Meghann_Shaughnessy_0002.jpg \t 2.8840348720550537\n",
      "Dick_Devine_0001.jpg \t Stella_Tennant_0001.jpg \t 3.415562152862549\n",
      "Lucrecia_Orozco_0001.jpg \t Dustin_Brown_0001.jpg \t 2.355517625808716\n",
      "Andy_Bryant_0001.jpg \t Kristen_Breitweiser_0003.jpg \t 3.494917154312134\n",
      "Ramon_Ponce_de_Leon_0001.jpg \t Lynn_Abraham_0001.jpg \t 3.5241920948028564\n",
      "Hermando_Harton_0001.jpg \t Boris_Henry_0001.jpg \t 3.4171695709228516\n",
      "Thomas_Ulrich_0001.jpg \t Pat_Cox_0002.jpg \t 2.6086974143981934\n",
      "King_Abdullah_II_0001.jpg \t Mark_Podlesny_0001.jpg \t 3.0868496894836426\n",
      "David_Millar_0001.jpg \t Ziwang_Xu_0001.jpg \t 3.4436278343200684\n",
      "Miyako_Miyazaki_0002.jpg \t Uzi_Even_0001.jpg \t 4.809819221496582\n",
      "Simona_Hradil_0001.jpg \t Adrianna_Zuzic_0001.jpg \t 2.8457822799682617\n",
      "Angie_Martinez_0001.jpg \t Kristin_Chenoweth_0001.jpg \t 1.485435962677002\n",
      "Andy_Wisecarver_0001.jpg \t Fred_Wilpon_0001.jpg \t 2.8347511291503906\n",
      "Momir_Nikolic_0001.jpg \t Krishna_Bhadur_Mahara_0001.jpg \t 2.4250736236572266\n",
      "Gerard_de_Cortanze_0001.jpg \t Tristan_Gretzky_0001.jpg \t 3.7706503868103027\n",
      "Riccardo_Muti_0001.jpg \t Darryl_McDaniels_0001.jpg \t 3.8024470806121826\n",
      "Tony_Clement_0001.jpg \t Takeo_Hiranuma_0001.jpg \t 2.072444438934326\n",
      "Rod_Thorn_0001.jpg \t Gerard_Butler_0001.jpg \t 2.461185932159424\n",
      "Angelo_Reyes_0001.jpg \t William_Webster_0001.jpg \t 1.4027297496795654\n",
      "Richard_Norton-Taylor_0002.jpg \t Sahim_Alwan_0001.jpg \t 3.8577022552490234\n",
      "Ricky_Barnes_0001.jpg \t Kim_Weeks_0001.jpg \t 3.844282627105713\n",
      "Dennis_Miller_0001.jpg \t George_Maxwell_Richards_0001.jpg \t 3.6816823482513428\n",
      "Art_Hoffmann_0002.jpg \t Lyle_Lovett_0001.jpg \t 2.743494749069214\n",
      "Julie_Andrews_0001.jpg \t Hideki_Matsui_0002.jpg \t 4.068113327026367\n",
      "Edward_Johnson_0001.jpg \t Jodie_Foster_0002.jpg \t 4.058089733123779\n",
      "Michael_Douglas_0003.jpg \t Alejandro_Fernandez_0001.jpg \t 3.896498203277588\n",
      "Lance_Armstrong_0005.jpg \t Richard_Fine_0001.jpg \t 3.6312270164489746\n",
      "Alisha_Richman_0001.jpg \t Inocencio_Arias_0001.jpg \t 3.519122362136841\n",
      "Esteban_Cordoba-Velazquez_0001.jpg \t Jen_Bice_0001.jpg \t 4.0043230056762695\n",
      "Isaiah_Washington_0002.jpg \t Alyse_Beaupre_0001.jpg \t 3.747028350830078\n",
      "Bill_Kollar_0001.jpg \t Michel_Charles_Chretien_0001.jpg \t 2.144979238510132\n",
      "Diane_Ladd_0001.jpg \t Franck_Cerutti_0001.jpg \t 3.441408157348633\n",
      "Colleen_Donovan_0001.jpg \t Gonzalo_Sanchez_de_Lozada_0009.jpg \t 3.971949815750122\n",
      "Rupert_Grint_0002.jpg \t Raquel_Welch_0002.jpg \t 2.379769802093506\n",
      "Tracee_Ellis_Ross_0001.jpg \t David_Bell_0001.jpg \t 4.213454723358154\n",
      "Mariangel_Ruiz_Torrealba_0001.jpg \t Eva_Amurri_0001.jpg \t 1.050395131111145\n",
      "Anne_McLellan_0003.jpg \t Bob_Iger_0001.jpg \t 3.5194690227508545\n",
      "Gerard_Kleisterlee_0001.jpg \t Matt_Braker_0001.jpg \t 2.171535015106201\n",
      "Peter_Rasch_0001.jpg \t Enrica_Fico_0001.jpg \t 2.921475887298584\n",
      "Charlton_Heston_0004.jpg \t Heidi_Fleiss_0003.jpg \t 4.074244976043701\n",
      "Nick_Nolte_0002.jpg \t Lisa_Raymond_0002.jpg \t 3.4581141471862793\n",
      "Naomi_Bronstein_0001.jpg \t Mitzi_Gaynor_0001.jpg \t 3.4534149169921875\n",
      "Svetlana_Koroleva_0001.jpg \t Mary_Sue_Coleman_0001.jpg \t 2.1527469158172607\n",
      "Yolanda_King_0001.jpg \t Richard_Rodriguez_0001.jpg \t 4.010756969451904\n",
      "\n",
      "top 5 lowest notsame\n",
      "('Eva_Amurri_0001.jpg', 'Mariangel_Ruiz_Torrealba_0001.jpg', 1.050395131111145)\n",
      "('William_Webster_0001.jpg', 'Angelo_Reyes_0001.jpg', 1.4027297496795654)\n",
      "('Kristin_Chenoweth_0001.jpg', 'Angie_Martinez_0001.jpg', 1.485435962677002)\n",
      "('Joan_Dangerfield_0001.jpg', 'Mira_Sorvino_0001.jpg', 1.783943772315979)\n",
      "('Takeo_Hiranuma_0001.jpg', 'Tony_Clement_0001.jpg', 2.072444438934326)\n"
     ]
    }
   ],
   "source": [
    "results = []\n",
    "for path in data['notsame']:\n",
    "    path1 = path[0]\n",
    "    path2 = path[1]\n",
    "    img0 = Image.open(path1)\n",
    "    img1 = Image.open(path2)\n",
    "    x0 = trfrm(img0)\n",
    "    x1 = trfrm(img1)\n",
    "    concatenated = torch.cat((totensor(img0),totensor(img1)),0)\n",
    "    concatenated.shape\n",
    "    distance = get_distance(x0, x1)\n",
    "    results.append((path2.split('/')[-1], path1.split('/')[-1], distance))\n",
    "    print(path1.split('/')[-1], '\\t', path2.split('/')[-1], '\\t', distance)\n",
    "sortedresults = sorted(results, key=lambda k: k[-1])\n",
    "print()\n",
    "print('top 5 lowest notsame')\n",
    "for it in sortedresults[:5]:\n",
    "    print(it)"
   ]
  },
  {
   "cell_type": "code",
   "execution_count": null,
   "metadata": {},
   "outputs": [],
   "source": []
  }
 ],
 "metadata": {
  "kernelspec": {
   "display_name": "Python 3",
   "language": "python",
   "name": "python3"
  },
  "language_info": {
   "codemirror_mode": {
    "name": "ipython",
    "version": 3
   },
   "file_extension": ".py",
   "mimetype": "text/x-python",
   "name": "python",
   "nbconvert_exporter": "python",
   "pygments_lexer": "ipython3",
   "version": "3.7.1"
  }
 },
 "nbformat": 4,
 "nbformat_minor": 2
}
